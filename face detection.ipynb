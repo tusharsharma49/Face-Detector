{
 "cells": [
  {
   "cell_type": "code",
   "execution_count": null,
   "metadata": {},
   "outputs": [],
   "source": [
    "import cv2\n",
    "import numpy as np\n",
    "face_model = cv2.CascadeClassifier('haarcascade_frontalface_default.xml')"
   ]
  },
  {
   "cell_type": "code",
   "execution_count": null,
   "metadata": {},
   "outputs": [],
   "source": [
    "readed_image = cv2.imread('shahrukh.jpg')\n",
    "arr_img =  np.array(readed_image)"
   ]
  },
  {
   "cell_type": "code",
   "execution_count": null,
   "metadata": {},
   "outputs": [],
   "source": [
    "while True:\n",
    "    face_cor = face_model.detectMultiScale(arr_img)\n",
    "\n",
    "    if len(face_cor) == 0:\n",
    "        pass\n",
    "    else:   \n",
    "        x1  = face_cor[0][0]\n",
    "        y1 = face_cor[0][1]\n",
    "        x2 = x1 + face_cor[0][2]\n",
    "        y2 = y1 + face_cor[0][3]\n",
    "\n",
    "        photo = cv2.rectangle(arr_img , (x1,  y1) , (x2, y2), [203,192,255], 1)\n",
    "        cv2.imshow('Face Detected' , photo)\n",
    "        #the image Detected prompt will only close ofter pessing Enter.\n",
    "        #Enter key is 13\n",
    "    if cv2.waitKey(10) == 13:\n",
    "        break\n",
    "cv2.destroyAllWindows()"
   ]
  },
  {
   "cell_type": "code",
   "execution_count": null,
   "metadata": {},
   "outputs": [],
   "source": []
  }
 ],
 "metadata": {
  "kernelspec": {
   "display_name": "Python 3",
   "language": "python",
   "name": "python3"
  },
  "language_info": {
   "codemirror_mode": {
    "name": "ipython",
    "version": 3
   },
   "file_extension": ".py",
   "mimetype": "text/x-python",
   "name": "python",
   "nbconvert_exporter": "python",
   "pygments_lexer": "ipython3",
   "version": "3.7.6"
  }
 },
 "nbformat": 4,
 "nbformat_minor": 2
}
